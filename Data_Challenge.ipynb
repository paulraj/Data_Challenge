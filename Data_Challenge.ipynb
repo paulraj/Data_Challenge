{
 "cells": [
  {
   "cell_type": "markdown",
   "metadata": {},
   "source": [
    "# Data Challenge\n",
    "\n",
    "## Instructions\n",
    "You will find a database of a representative sample of search and share events for the month of June for GIF Keyboard (US-only). Please analyze this data, provide written responses to questions 1-4 below, and prepare to discuss the data during the on-site interviews.\n",
    "\n",
    "**1. \"Warmup\" metrics:**\n",
    "    - Compute the aggregate \"share rate\": Ratio of shares to searches\n",
    "    - Compute the share rate for the top 1000 most-searched terms\n",
    "    - How many unique search terms are there? What does the distribution look like (consider the count per search term; plot or describe the results)?\n",
    "    - How many unique gifs are shared? What does the distribution look like?\n",
    "\n",
    "**2. Advanced metrics:**\n",
    "    - A \"search session\" is defined as a series of consecutive searches by a user, close in temporal proximity (typically on the order of seconds), that may or may not result in a share. Given the available data, how would you compute the average duration of a search session? Bonus: Estimate the average duration of a search session, and compute the ratio of shares to search sessions.\n",
    "\n",
    "**3. Experimental design (hint: A/B testing):**\n",
    "    - Suppose you've built a new model for the search engine that you'd like to test against the current model.\n",
    "        * How would you measure the effectiveness of the new model?\n",
    "        * What additional data would you need in the dataset to compare the effectiveness of the new vs. current models?\n",
    "        * How would you determine the statistical significance of the results?\n",
    "\n",
    "**4. Predictive models:**\n",
    "    - There is sufficient data in the dataset to build a crude \"search suggestions\" model: Given a specific search term, return a list of related search terms. Describe how you might build such a model (describe the data you would use, techniques, inferences, etc.; you do not need to implement this).\n",
    "\n",
    "**5. Insights and discussion points for on-site:**\n",
    "    - This section is not needed for the written responses. For the on-site interviews, please take another look at the dataset, and be prepared to share and discuss additional insights you can extract from the dataset, or useful models or features you can potentially build from the dataset. Example topics might include semantic analysis of searches, graph analysis of shared GIFs, etc.\n",
    "    \n",
    "## Database Info:\n",
    "    You will have read-write access to the \"public\" schema. You may create temp tables as necessary. The table with relevant data is \"ios_events\". The data may be noisy, but we tried to limit the dataset to the most relevant data.\n",
    "\n",
    "    Notes on relevant columns:\n",
    "    timestamp - time of user action\n",
    "    keyboardid - unique anonymous user id\n",
    "    eventname - textsearch = browse or search; share = share\n",
    "    tags - primary search term(s)\n",
    "    riffid - id of the gif shared (gif metadata is not provided)\n",
    "    tag1/tag2 - may be relevant if autosuggest or filters are used, but this data is noisy\n",
    "    actions - app behavior triggering the search\n",
    "    component - sub-component of app\n",
    "    viewindex - position of the gif shared (or -1 if unknown/unavailable)\n"
   ]
  },
  {
   "cell_type": "code",
   "execution_count": 1,
   "metadata": {
    "collapsed": true
   },
   "outputs": [],
   "source": [
    "import sys\n",
    "import json\n",
    "import psycopg2\n",
    "import pandas as pd\n",
    "import numpy as np\n",
    "import pprint\n",
    "import matplotlib.pyplot as plt\n",
    "import datetime"
   ]
  },
  {
   "cell_type": "code",
   "execution_count": 2,
   "metadata": {
    "collapsed": true
   },
   "outputs": [],
   "source": [
    "def connect_db(config_file):\n",
    "    with open(config_file) as f:\n",
    "        config = json.load(f)\n",
    "    \n",
    "    connect_str = \"host={} port={} dbname={} user={} password={}\\\n",
    "    \".format(config['host'], config['port'], config['database'], config['user'], config['password'])\n",
    "    \n",
    "    connection = None\n",
    "    try:\n",
    "        connection = psycopg2.connect(connect_str)\n",
    "        print(\"Database connected!\")\n",
    "    except:\n",
    "        print(\"Unable to connect to the database.\")\n",
    "    \n",
    "    return connection"
   ]
  },
  {
   "cell_type": "code",
   "execution_count": 7,
   "metadata": {},
   "outputs": [
    {
     "name": "stdout",
     "output_type": "stream",
     "text": [
      "Database connected!\n"
     ]
    }
   ],
   "source": [
    "conn = connect_db('config.json')"
   ]
  },
  {
   "cell_type": "code",
   "execution_count": null,
   "metadata": {
    "collapsed": true
   },
   "outputs": [],
   "source": [
    "\"\"\"df = pd.DataFrame()\n",
    "for chunk in pd.read_sql('SELECT * FROM IOS_EVENTS', con = conn, chunksize = 20000):\n",
    "    df = df.append(chunk)\n",
    "#df.head(5)\n",
    "\"\"\""
   ]
  },
  {
   "cell_type": "code",
   "execution_count": 53,
   "metadata": {
    "collapsed": true
   },
   "outputs": [],
   "source": [
    "conn.close()"
   ]
  },
  {
   "cell_type": "code",
   "execution_count": 9,
   "metadata": {
    "collapsed": true
   },
   "outputs": [],
   "source": [
    "def execute_sql(sql):\n",
    "    global conn\n",
    "    if conn.closed:\n",
    "        conn = connect_db('config.json')\n",
    "    cursor = conn.cursor()\n",
    "    cursor.execute(sql)\n",
    "    rows = cursor.fetchall()\n",
    "    return rows"
   ]
  },
  {
   "cell_type": "code",
   "execution_count": 54,
   "metadata": {},
   "outputs": [
    {
     "name": "stdout",
     "output_type": "stream",
     "text": [
      "Database connected!\n",
      "(datetime.datetime(2017, 6, 1, 0, 4, 50), 'MjA0Mzg5MjY', 'textsearch', 'search', 'party', '0', 'iOS_GK_3.5', '', 'iPhone7,1|10.3.1', 'Part', 'en_US', 'party', '', 'autosuggest', 'keyboard', -1)\n",
      "(datetime.datetime(2017, 6, 1, 0, 30, 33), 'NjA0MjI5OTQ', 'textsearch', 'search', 'Fucking', '0', 'iOS_GK_3.5', '', 'iPhone8,1|10.3.2', '', 'en_US', 'Fucking', '', 'search_cancel', 'keyboard', -1)\n",
      "(datetime.datetime(2017, 6, 1, 3, 20, 18), 'MjEzNTcwNA', 'textsearch', 'search', 'cocaine', '0', 'iOS_GK_3.5', '', 'iPhone8,1|10.3.2', 'cocaine', 'en_US', 'cocaine', '', 'autosuggest', 'messages', -1)\n",
      "(datetime.datetime(2017, 6, 1, 3, 42, 24), 'OTg0NTY0NTg', 'textsearch', 'search', 'freshprince', '0', 'iOS_GK_3.5', '', 'iPhone7,2|10.2', 'Fresh', 'en_US', 'freshprince', '', 'autosuggest', 'keyboard', -1)\n",
      "(datetime.datetime(2017, 6, 1, 5, 43, 39), 'OTg3NTU1NjY', 'textsearch', 'search', 'congratulations', '0', 'iOS_GK_3.5', '', 'iPhone9,4|10.3.2', 'Congr', 'en_US', 'congratulations', '', 'autosuggest', 'keyboard', -1)\n"
     ]
    }
   ],
   "source": [
    "sql = 'SELECT * FROM IOS_EVENTS limit 5'\n",
    "rows = execute_sql(sql) \n",
    "for row in rows:\n",
    "    print(row)"
   ]
  },
  {
   "cell_type": "markdown",
   "metadata": {
    "collapsed": true
   },
   "source": [
    "### Challenge Question - 1\n",
    "\n",
    "**1. \"Warmup\" metrics:**\n",
    "    - Compute the aggregate \"share rate\": Ratio of shares to searches\n",
    "    - Compute the share rate for the top 1000 most-searched terms\n",
    "    - How many unique search terms are there? What does the distribution look like (consider the count per search term; plot or describe the results)?\n",
    "    - How many unique gifs are shared? What does the distribution look like?"
   ]
  },
  {
   "cell_type": "markdown",
   "metadata": {},
   "source": [
    "#### Compute the aggregate \"share rate\": Ratio of shares to searches"
   ]
  },
  {
   "cell_type": "code",
   "execution_count": 41,
   "metadata": {},
   "outputs": [
    {
     "name": "stdout",
     "output_type": "stream",
     "text": [
      "The ratio of shares to searches is 0.65.\n"
     ]
    }
   ],
   "source": [
    "share_rate_sql = \"SELECT TSHARE*1.0/TSEARCH AS SHARE_RATIO \\\n",
    "    FROM \\\n",
    "        ( \\\n",
    "            SELECT 'TOTAL' AS TOTAL, \\\n",
    "            SUM(CASE WHEN EVENTNAME='textsearch' THEN 1 END) AS TSEARCH, \\\n",
    "            SUM(CASE WHEN EVENTNAME='share' THEN 1 END) AS TSHARE \\\n",
    "                FROM IOS_EVENTS \\\n",
    "                GROUP BY 1 \\\n",
    "        )\"\n",
    "results = execute_sql(share_rate_sql)\n",
    "print('The ratio of shares to searches is '+str(results[0][0])[0:4] +'.')"
   ]
  },
  {
   "cell_type": "markdown",
   "metadata": {},
   "source": [
    "#### Compute the share rate for the top 1000 most-searched terms"
   ]
  },
  {
   "cell_type": "code",
   "execution_count": 58,
   "metadata": {},
   "outputs": [
    {
     "name": "stdout",
     "output_type": "stream",
     "text": [
      "The ratio of shares to searches on top 1000 most searched terms is 0.74.\n"
     ]
    }
   ],
   "source": [
    "top_1000_searched_terms_sql = \"SELECT  \\\n",
    "\t\t\tAVG(TSHARE * 1.0 / TSEARCH) AS TAGS_SHARE_RATIO \\\n",
    "\t\tFROM \\\n",
    "\t\t( \\\n",
    "\t\t\tSELECT TAGS AS TAGS, \\\n",
    "\t\t\t\tSUM(CASE WHEN EVENTNAME='textsearch' THEN 1 END) AS TSEARCH, \\\n",
    "\t\t\t\tSUM(CASE WHEN EVENTNAME='share' THEN 1 END) AS TSHARE  \\\n",
    "\t\t\tFROM  \\\n",
    "\t\t\t\t( \\\n",
    "\t\t\t\tSELECT TAGS, EVENTNAME  \\\n",
    "\t\t\t\tFROM IOS_EVENTS  \\\n",
    "\t\t\t\tWHERE TAGS IN ( SELECT TAGS FROM ( SELECT TAGS, COUNT(*) FROM IOS_EVENTS \\\n",
    "                WHERE TRIM(TAGS) <> '' GROUP BY TAGS ORDER BY 2 DESC LIMIT 1000 )) \\\n",
    "\t\t\t\t) \\\n",
    "\t\t\tGROUP BY 1 ) \"\n",
    "results = execute_sql(top_1000_searched_terms_sql)\n",
    "print('The ratio of shares to searches on top 1000 most searched terms is '+str(results[0][0])[0:4] +'.')"
   ]
  },
  {
   "cell_type": "markdown",
   "metadata": {},
   "source": [
    "#### How many unique search terms are there? What does the distribution look like (consider the count per search term; plot or describe the results)?"
   ]
  },
  {
   "cell_type": "code",
   "execution_count": 59,
   "metadata": {},
   "outputs": [
    {
     "name": "stdout",
     "output_type": "stream",
     "text": [
      "The number of total unique search terms are 2729143.\n"
     ]
    }
   ],
   "source": [
    "number_of_unique_searchterms_sql = \"SELECT COUNT(DISTINCT TAGS) FROM IOS_EVENTS\"\n",
    "results = execute_sql(number_of_unique_searchterms_sql)\n",
    "print('The number of total unique search terms are '+str(results[0][0]) +'.')"
   ]
  },
  {
   "cell_type": "code",
   "execution_count": 17,
   "metadata": {
    "scrolled": true
   },
   "outputs": [
    {
     "data": {
      "image/png": "[encoded data removed]",
      "text/plain": [
       "<matplotlib.figure.Figure at 0x12c983c18>"
      ]
     },
     "metadata": {},
     "output_type": "display_data"
    }
   ],
   "source": [
    "unique_searchterms_sql = \"SELECT DISTINCT TAGS, COUNT(*) FROM IOS_EVENTS WHERE TRIM(TAGS) != '' GROUP BY TAGS ORDER BY 2\"\n",
    "results = execute_sql(unique_searchterms_sql)\n",
    "\n",
    "data = []\n",
    "for row in results:\n",
    "    data.append(row[1]) \n",
    "\n",
    "plt.hist(data, bins = 20)\n",
    "plt.xlabel('searchterms')\n",
    "plt.ylabel('count')\n",
    "plt.title('search terms distribution')\n",
    "plt.show()"
   ]
  },
  {
   "cell_type": "markdown",
   "metadata": {},
   "source": [
    "###### Analysis Description:\n",
    "*1. Gif for agreement:* Looks like people would want to use gifs to say yes or agree to something.\n",
    "*2. Gif for happy birthday:* people would want to use gif for occations like happy birthday and to say good night and all.   "
   ]
  },
  {
   "cell_type": "markdown",
   "metadata": {},
   "source": [
    "#### How many unique gifs are shared? What does the distribution look like?"
   ]
  },
  {
   "cell_type": "code",
   "execution_count": 61,
   "metadata": {},
   "outputs": [
    {
     "name": "stdout",
     "output_type": "stream",
     "text": [
      "The number of total unique gifs shared2729143.\n"
     ]
    }
   ],
   "source": [
    "number_of_unique_gifs_shared_sql = \"SELECT COUNT(DISTINCT RIFFID) FROM IOS_EVENTS\"\n",
    "results = execute_sql(number_of_unique_searchterms_sql)\n",
    "print('The number of total unique gifs shared '+str(results[0][0]) +'.')"
   ]
  },
  {
   "cell_type": "code",
   "execution_count": 20,
   "metadata": {},
   "outputs": [
    {
     "name": "stdout",
     "output_type": "stream",
     "text": [
      "[('7513882', 69662),\n",
      " ('7212866', 57450),\n",
      " ('5488810', 52495),\n",
      " ('5795910', 46818),\n",
      " ('5663730', 43491),\n",
      " ('5943705', 42212),\n",
      " ('4790020', 42092),\n",
      " ('3850980', 41186),\n",
      " ('4988274', 40465),\n",
      " ('5751664', 40172)]\n"
     ]
    },
    {
     "data": {
      "image/png": "[encoded data removed]",
      "text/plain": [
       "<matplotlib.figure.Figure at 0x12eae0940>"
      ]
     },
     "metadata": {},
     "output_type": "display_data"
    }
   ],
   "source": [
    "unique_gifs_shared_sql = \"SELECT RIFFID, COUNT(*) FROM IOS_EVENTS WHERE RIFFID != 0 GROUP BY RIFFID ORDER BY 2 DESC LIMIT 10\"\n",
    "results = execute_sql(unique_gifs_shared_sql)\n",
    "pprint.pprint(results[0:1000])\n",
    "\n",
    "data = []\n",
    "for row in results:\n",
    "    data.append(row[1]) \n",
    "\n",
    "plt.hist(data, bins = 20)\n",
    "plt.xlabel('searchterms')\n",
    "plt.ylabel('count')\n",
    "plt.title('unique gifs distribution')\n",
    "plt.show()"
   ]
  },
  {
   "cell_type": "markdown",
   "metadata": {},
   "source": [
    "#### 2. Advanced metrics:\n",
    "A \"search session\" is defined as a series of consecutive searches by a user, close in temporal proximity (typically on the order of seconds), that may or may not result in a share. Given the available data, how would you compute the average duration of a search session? Bonus: Estimate the average duration of a search session, and compute the ratio of shares to search sessions."
   ]
  },
  {
   "cell_type": "markdown",
   "metadata": {},
   "source": [
    "###### Average Duration of Search session"
   ]
  },
  {
   "cell_type": "code",
   "execution_count": 27,
   "metadata": {
    "collapsed": true
   },
   "outputs": [],
   "source": [
    "search_session_sql = \"SELECT KEYBOARDID, COUNT(*) AS TOTAL_NUMBER_OF_SEARCHES, \\\n",
    "        SUM(extract(epoch from duration)) AS TOTAL_SEARCH_DURATION, \\\n",
    "        AVG(extract(epoch from duration)) AS AVERAGE_SEARCH_DURATION \\\n",
    "    FROM \\\n",
    "        (SELECT KEYBOARDID, \\\n",
    "            TIMESTAMP AS T, \\\n",
    "            (TIMESTAMP - LAG(TIMESTAMP) OVER (PARTITION BY KEYBOARDID ORDER BY KEYBOARDID, TIMESTAMP))*1.0 AS DURATION \\\n",
    "            FROM IOS_EVENTS WHERE EVENTNAME = 'textsearch' \\\n",
    "        ) GROUP BY KEYBOARDID LIMIT 10\""
   ]
  },
  {
   "cell_type": "code",
   "execution_count": 29,
   "metadata": {},
   "outputs": [
    {
     "name": "stdout",
     "output_type": "stream",
     "text": [
      "('MTA0MDA0Mjc0', 17, 1990390.0, 124399.375)\n",
      "('MTA0MDA0NTEx', 56, 2509166.0, 45621.2)\n",
      "('MTA0MDA0NjU1', 2, 8.0, 8.0)\n",
      "('MTA0MDA1MzAw', 1, None, None)\n",
      "('MTA0MDA1NzEx', 1, None, None)\n",
      "('MTA0MDA1Nzg1', 2, 389.0, 389.0)\n",
      "('MTA0MDA2MDg0', 125, 2511861.0, 20256.9435483871)\n",
      "('MTA0MDA2MjUz', 1, None, None)\n",
      "('MTA0MDA2NjE5', 9, 1299906.0, 162488.25)\n",
      "('MTA0MDA3MjE3', 9, 1722138.0, 215267.25)\n"
     ]
    },
    {
     "data": {
      "image/png": "[encoded data removed]",
      "text/plain": [
       "<matplotlib.figure.Figure at 0x12eae6588>"
      ]
     },
     "metadata": {},
     "output_type": "display_data"
    }
   ],
   "source": [
    "x = []\n",
    "y = []\n",
    "for row in execute_sql(search_session_sql):\n",
    "    print(row)\n",
    "    x.append(row[2])\n",
    "    y.append(row[3])\n",
    "    \n",
    "plt.plot(x, y, 'g')\n",
    "plt.xlabel('total number of searches')\n",
    "plt.ylabel('average search session')\n",
    "plt.title('search session')\n",
    "plt.show()   "
   ]
  },
  {
   "cell_type": "markdown",
   "metadata": {},
   "source": [
    "###### Ratio of Shares to Searches"
   ]
  },
  {
   "cell_type": "markdown",
   "metadata": {
    "collapsed": true
   },
   "source": [
    "#### 3. Experimental design (hint: A/B testing):\n",
    "\n",
    "- Suppose you've built a new model for the search engine that you'd like to test against the current model.\n",
    "    * How would you measure the effectiveness of the new model?\n",
    "    * What additional data would you need in the dataset to compare the effectiveness of the new vs. current models?\n",
    "    * How would you determine the statistical significance of the results?"
   ]
  },
  {
   "cell_type": "markdown",
   "metadata": {
    "collapsed": true
   },
   "source": [
    "*How would you measure the effectiveness of the new model?*\n",
    "\n",
    "ANSWER: By testing the new model against test set. The error rate shoud be very less. The less error rate, more effectiveness of the new model \n",
    "\n",
    "*What additional data would you need in the dataset to compare the effectiveness of the new vs. current models?*\n",
    "\n",
    "ANSWER: Maybe the input entries by the user as the TAGS currently has fully typed words. \n",
    "\n",
    "*How would you determine the statistical significance of the results?*\n",
    "\n",
    "ANSWER: Test valdiation should have less error."
   ]
  },
  {
   "cell_type": "markdown",
   "metadata": {},
   "source": [
    "#### 4. Predictive models:\n",
    "\n",
    "- There is sufficient data in the dataset to build a crude \"search suggestions\" model: Given a specific search term, return a list of related search terms. Describe how you might build such a model (describe the data you would use, techniques, inferences, etc.; you do not need to implement this)."
   ]
  },
  {
   "cell_type": "code",
   "execution_count": 63,
   "metadata": {
    "collapsed": true
   },
   "outputs": [],
   "source": [
    "def get_related_search_terms(search_term):\n",
    "    related_search_terms_sql = \"SELECT TAGS FROM (\\\n",
    "    SELECT TAGS, COUNT(*) FROM IOS_EVENTS WHERE TAGS LIKE '\" + search_term + \"%' \\\n",
    "    GROUP BY TAGS ORDER BY 2 DESC LIMIT 10 )\"\n",
    "    results = execute_sql(related_search_terms_sql)\n",
    "    for row in results:\n",
    "        print(row[0])"
   ]
  },
  {
   "cell_type": "code",
   "execution_count": 64,
   "metadata": {},
   "outputs": [
    {
     "name": "stdout",
     "output_type": "stream",
     "text": [
      "happybirthday\n",
      "happy\n",
      "happy birthday\n",
      "happy fathers day\n",
      "happy dance\n",
      "happydance\n",
      "happyanniversary\n",
      "happy Birthday\n",
      "happyfriday\n",
      "happygilmore\n"
     ]
    }
   ],
   "source": [
    "get_related_search_terms('happ')"
   ]
  },
  {
   "cell_type": "markdown",
   "metadata": {},
   "source": [
    "##### Predictive Model Description:\n",
    "\n",
    "We can probably use TD-IDF (term frequency–inverse document frequency) approach using tags and tag1 features. This will give the important words used in the search terms."
   ]
  },
  {
   "cell_type": "markdown",
   "metadata": {},
   "source": [
    "#### 5. Insights and discussion points for on-site:\n",
    "\n",
    "- This section is not needed for the written responses. For the on-site interviews, please take another look at the dataset, and be prepared to share and discuss additional insights you can extract from the dataset, or useful models or features you can potentially build from the dataset. Example topics might include semantic analysis of searches, graph analysis of shared GIFs, etc."
   ]
  },
  {
   "cell_type": "markdown",
   "metadata": {
    "collapsed": true
   },
   "source": [
    "##### Below are some of the example graphs and insights from the data"
   ]
  },
  {
   "cell_type": "markdown",
   "metadata": {},
   "source": [
    "happy birthday search term usage"
   ]
  },
  {
   "cell_type": "code",
   "execution_count": 31,
   "metadata": {},
   "outputs": [
    {
     "data": {
      "image/png": "[encoded data removed]",
      "text/plain": [
       "<matplotlib.figure.Figure at 0x1401a7390>"
      ]
     },
     "metadata": {},
     "output_type": "display_data"
    }
   ],
   "source": [
    "happy_birthday_sql = \"SELECT TIMESTAMP::DATE , count(*) FROM IOS_EVENTS \\\n",
    "                    WHERE TAGS = 'happybirthday' GROUP BY TIMESTAMP::DATE ORDER BY 1\"\n",
    "x = []\n",
    "y = []\n",
    "for row in execute_sql(happy_birthday_sql):\n",
    "    x.append(row[0])\n",
    "    y.append(row[1])\n",
    "plt.plot(x, y, 'b')\n",
    "plt.xlabel('date')\n",
    "plt.ylabel('searches')\n",
    "plt.title('happy_birthday search term trend')\n",
    "plt.show()"
   ]
  },
  {
   "cell_type": "markdown",
   "metadata": {},
   "source": [
    "top user search activity"
   ]
  },
  {
   "cell_type": "code",
   "execution_count": 32,
   "metadata": {},
   "outputs": [
    {
     "data": {
      "image/png": "[encoded data removed]",
      "text/plain": [
       "<matplotlib.figure.Figure at 0x118ca4668>"
      ]
     },
     "metadata": {},
     "output_type": "display_data"
    }
   ],
   "source": [
    "top_user_sql = \"SELECT TIMESTAMP::Date, COUNT(*) FROM IOS_EVENTS WHERE EVENTNAME = 'textsearch' \\\n",
    "AND KEYBOARDID = 'MTA0NTA4MzU2' GROUP BY TIMESTAMP::Date ORDER BY 1\"\n",
    "x = []\n",
    "y = []\n",
    "for row in execute_sql(top_user_sql):\n",
    "    x.append(row[0])\n",
    "    y.append(row[1])\n",
    "    \n",
    "plt.plot(x, y, 'g')\n",
    "plt.xlabel('date')\n",
    "plt.ylabel('searches')\n",
    "plt.title('top user search graph')\n",
    "plt.show()   "
   ]
  },
  {
   "cell_type": "markdown",
   "metadata": {},
   "source": [
    "top gif shared trending graph"
   ]
  },
  {
   "cell_type": "code",
   "execution_count": 33,
   "metadata": {},
   "outputs": [
    {
     "data": {
      "image/png": "[encoded data removed]",
      "text/plain": [
       "<matplotlib.figure.Figure at 0x13ded5198>"
      ]
     },
     "metadata": {},
     "output_type": "display_data"
    }
   ],
   "source": [
    "top_gif_shared_sql = \"SELECT TIMESTAMP::DATE, COUNT(*) FROM IOS_EVENTS \\\n",
    "WHERE RIFFID = '7513882' GROUP BY TIMESTAMP::DATE ORDER BY 1\"\n",
    "x = []\n",
    "y = []\n",
    "for row in execute_sql(top_gif_shared_sql):\n",
    "    x.append(row[0])\n",
    "    y.append(row[1])\n",
    "    \n",
    "plt.plot(x, y, 'g')\n",
    "plt.xlabel('date')\n",
    "plt.ylabel('shares')\n",
    "plt.title('top gif shared graph')\n",
    "plt.show() "
   ]
  },
  {
   "cell_type": "markdown",
   "metadata": {},
   "source": [
    "top trending gifs recently"
   ]
  },
  {
   "cell_type": "code",
   "execution_count": 34,
   "metadata": {},
   "outputs": [
    {
     "data": {
      "image/png": "[encoded data removed]",
      "text/plain": [
       "<matplotlib.figure.Figure at 0x13dd85828>"
      ]
     },
     "metadata": {},
     "output_type": "display_data"
    }
   ],
   "source": [
    "top_trending_gifs_sql = \\\n",
    "\"SELECT TIMESTAMP::DATE, RIFFID, COUNT(*) FROM IOS_EVENTS WHERE RIFFID IN ( \\\n",
    "SELECT RIFFID FROM \\\n",
    "( \\\n",
    "\tSELECT RIFFID, _DATETIME, COUNT, (_DATETIME - LAG(_DATETIME) OVER (PARTITION BY RIFFID ORDER BY _DATETIME)) AS _INTERVAL, \\\n",
    "\t(COUNT - LAG(COUNT) OVER (PARTITION BY RIFFID ORDER BY _DATETIME )) AS SHARE_DIFF \\\n",
    "\tFROM \\\n",
    "\t(SELECT RIFFID, TIMESTAMP::DATE AS _DATETIME, COUNT(*) AS COUNT FROM IOS_EVENTS WHERE EVENTNAME = 'share' AND RIFFID != 0 GROUP BY RIFFID, TIMESTAMP::DATE) \\\n",
    ") \\\n",
    "WHERE SHARE_DIFF IS NOT NULL AND SHARE_DIFF > 2000 AND _DATETIME > '2017-06-23'::Date \\\n",
    "ORDER BY SHARE_DIFF DESC LIMIT 5 ) GROUP BY TIMESTAMP::DATE, RIFFID ORDER BY TIMESTAMP::DATE\"\n",
    "x1 = []\n",
    "x2 = []\n",
    "x3 = []\n",
    "x4 = []\n",
    "x5 = []\n",
    "\n",
    "y1 = []\n",
    "y2 = []\n",
    "y3 = []\n",
    "y4 = []\n",
    "y5 = []\n",
    "\n",
    "riffids = []\n",
    "for row in execute_sql(top_trending_gifs_sql):\n",
    "    if row[1] not in riffids:\n",
    "        riffids.append(row[1])\n",
    "\n",
    "for row in execute_sql(top_trending_gifs_sql):\n",
    "    if riffids[0] == row[1]:\n",
    "        x1.append(row[0])\n",
    "        y1.append(row[2])\n",
    "    if riffids[1] == row[1]:\n",
    "        x2.append(row[0])\n",
    "        y2.append(row[2])\n",
    "    if riffids[2] == row[1]:\n",
    "        x3.append(row[0])\n",
    "        y3.append(row[2])\n",
    "    if riffids[3] == row[1]:\n",
    "        x4.append(row[0])\n",
    "        y4.append(row[2])\n",
    "    if riffids[4] == row[1]:\n",
    "        x5.append(row[0])\n",
    "        y5.append(row[2])\n",
    "    \n",
    "plt.plot(x1, y1, 'g')\n",
    "plt.plot(x2, y2, 'b')\n",
    "plt.plot(x3, y3, 'r')\n",
    "plt.plot(x4, y4, 'y')\n",
    "plt.plot(x5, y5, 'm')\n",
    "\n",
    "plt.xlabel('date')\n",
    "plt.ylabel('shares')\n",
    "plt.title('top gif shared trending graph')\n",
    "plt.show() "
   ]
  },
  {
   "cell_type": "code",
   "execution_count": null,
   "metadata": {
    "collapsed": true
   },
   "outputs": [],
   "source": []
  },
  {
   "cell_type": "code",
   "execution_count": null,
   "metadata": {
    "collapsed": true
   },
   "outputs": [],
   "source": [
    "conn.close()"
   ]
  }
 ],
 "metadata": {
  "kernelspec": {
   "display_name": "Python 3",
   "language": "python",
   "name": "python3"
  },
  "language_info": {
   "codemirror_mode": {
    "name": "ipython",
    "version": 3
   },
   "file_extension": ".py",
   "mimetype": "text/x-python",
   "name": "python",
   "nbconvert_exporter": "python",
   "pygments_lexer": "ipython3",
   "version": "3.6.3"
  }
 },
 "nbformat": 4,
 "nbformat_minor": 2
}
